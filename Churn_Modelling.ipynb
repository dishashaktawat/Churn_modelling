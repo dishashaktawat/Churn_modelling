{
 "cells": [
  {
   "cell_type": "code",
   "execution_count": 98,
   "id": "fdec4ff2",
   "metadata": {},
   "outputs": [],
   "source": [
    "import numpy as np\n",
    "import matplotlib.pyplot as plt\n",
    "import pandas as pd"
   ]
  },
  {
   "cell_type": "code",
   "execution_count": 99,
   "id": "687ac506",
   "metadata": {},
   "outputs": [
    {
     "name": "stdout",
     "output_type": "stream",
     "text": [
      "['France' 'Spain' 'Germany']\n"
     ]
    }
   ],
   "source": [
    "dataset = pd.read_csv('D:/NLP/Churn_Modelling.csv')\n",
    "print(dataset['Geography'].unique())\n",
    "X = dataset.iloc[:, 3:13]\n",
    "y = dataset.iloc[:, 13]"
   ]
  },
  {
   "cell_type": "code",
   "execution_count": 100,
   "id": "d7473def",
   "metadata": {},
   "outputs": [],
   "source": [
    "#Create dummy variables\n",
    "geography=pd.get_dummies(X[\"Geography\"],drop_first=True)\n",
    "gender=pd.get_dummies(X['Gender'],drop_first=True)"
   ]
  },
  {
   "cell_type": "code",
   "execution_count": 101,
   "id": "fa8acf52",
   "metadata": {},
   "outputs": [
    {
     "name": "stdout",
     "output_type": "stream",
     "text": [
      "      CreditScore Geography  Gender  Age  Tenure    Balance  NumOfProducts  \\\n",
      "0             619    France  Female   42       2       0.00              1   \n",
      "1             608     Spain  Female   41       1   83807.86              1   \n",
      "2             502    France  Female   42       8  159660.80              3   \n",
      "3             699    France  Female   39       1       0.00              2   \n",
      "4             850     Spain  Female   43       2  125510.82              1   \n",
      "...           ...       ...     ...  ...     ...        ...            ...   \n",
      "9995          771    France    Male   39       5       0.00              2   \n",
      "9996          516    France    Male   35      10   57369.61              1   \n",
      "9997          709    France  Female   36       7       0.00              1   \n",
      "9998          772   Germany    Male   42       3   75075.31              2   \n",
      "9999          792    France  Female   28       4  130142.79              1   \n",
      "\n",
      "      HasCrCard  IsActiveMember  EstimatedSalary  Germany  Spain  Male  \n",
      "0             1               1        101348.88        0      0     0  \n",
      "1             0               1        112542.58        0      1     0  \n",
      "2             1               0        113931.57        0      0     0  \n",
      "3             0               0         93826.63        0      0     0  \n",
      "4             1               1         79084.10        0      1     0  \n",
      "...         ...             ...              ...      ...    ...   ...  \n",
      "9995          1               0         96270.64        0      0     1  \n",
      "9996          1               1        101699.77        0      0     1  \n",
      "9997          0               1         42085.58        0      0     0  \n",
      "9998          1               0         92888.52        1      0     1  \n",
      "9999          1               0         38190.78        0      0     0  \n",
      "\n",
      "[10000 rows x 13 columns]\n"
     ]
    }
   ],
   "source": [
    "## Concatenate the Data Frames\n",
    "\n",
    "X=pd.concat([X,geography,gender],axis=1)\n",
    "print(X)\n"
   ]
  },
  {
   "cell_type": "code",
   "execution_count": 102,
   "id": "463d2191",
   "metadata": {},
   "outputs": [],
   "source": [
    "X = X.drop(['Geography','Gender'],axis=1)\n"
   ]
  },
  {
   "cell_type": "code",
   "execution_count": 103,
   "id": "2f73dcaa",
   "metadata": {},
   "outputs": [],
   "source": [
    "# Splitting the dataset into the Training set and Test set\n",
    "from sklearn.model_selection import train_test_split\n",
    "X_train, X_test, y_train, y_test = train_test_split(X, y, test_size = 0.2, random_state = 0)"
   ]
  },
  {
   "cell_type": "code",
   "execution_count": 104,
   "id": "67156395",
   "metadata": {},
   "outputs": [],
   "source": [
    "# Feature Scaling\n",
    "from sklearn.preprocessing import StandardScaler\n",
    "sc = StandardScaler()\n",
    "X_train = sc.fit_transform(X_train)\n",
    "X_test = sc.transform(X_test)"
   ]
  },
  {
   "cell_type": "code",
   "execution_count": 105,
   "id": "e622d9d4",
   "metadata": {},
   "outputs": [],
   "source": [
    "# Part 2 - Now let's make the ANN!\n",
    "\n",
    "# Importing the Keras libraries and packages\n",
    "from tensorflow.keras.models import Sequential\n",
    "from tensorflow.keras.layers import Dense\n",
    "from tensorflow.keras.layers import LeakyReLU,PReLU,ELU\n",
    "from tensorflow.keras.layers import Dropout"
   ]
  },
  {
   "cell_type": "code",
   "execution_count": 106,
   "id": "c9f9ff8c",
   "metadata": {},
   "outputs": [],
   "source": [
    "# Initialising the ANN\n",
    "classifier = Sequential()\n",
    "\n",
    "# Adding the input layer and the first hidden layer\n",
    "classifier.add(Dense(6, kernel_initializer = 'he_uniform',activation='relu',input_dim = 11))"
   ]
  },
  {
   "cell_type": "code",
   "execution_count": 107,
   "id": "072d6fd8",
   "metadata": {},
   "outputs": [],
   "source": [
    "# Adding the second hidden layer\n",
    "classifier.add(Dense(6, kernel_initializer = 'he_uniform', activation='relu'))\n",
    "# Adding the output layer\n",
    "classifier.add(Dense(1, kernel_initializer = 'glorot_uniform', activation = 'sigmoid'))"
   ]
  },
  {
   "cell_type": "code",
   "execution_count": 108,
   "id": "ff823f19",
   "metadata": {},
   "outputs": [],
   "source": [
    "# Compiling the ANN\n",
    "classifier.compile(optimizer = 'Adamax', loss = 'binary_crossentropy', metrics = ['accuracy'])"
   ]
  },
  {
   "cell_type": "code",
   "execution_count": 109,
   "id": "df866259",
   "metadata": {},
   "outputs": [],
   "source": [
    "X_train = np.asarray(X_train)\n",
    "y_train = np.asarray(y_train)"
   ]
  },
  {
   "cell_type": "code",
   "execution_count": 110,
   "id": "fdccbaba",
   "metadata": {},
   "outputs": [
    {
     "name": "stdout",
     "output_type": "stream",
     "text": [
      "Train on 5359 samples, validate on 2641 samples\n",
      "Epoch 1/100\n",
      "5359/5359 [==============================] - 2s 288us/sample - loss: 0.5918 - accuracy: 0.7634 - val_loss: 0.5458 - val_accuracy: 0.7929\n",
      "Epoch 2/100\n",
      "5359/5359 [==============================] - 1s 180us/sample - loss: 0.5215 - accuracy: 0.7951 - val_loss: 0.5078 - val_accuracy: 0.7970\n",
      "Epoch 3/100\n",
      "5359/5359 [==============================] - 1s 184us/sample - loss: 0.4919 - accuracy: 0.7960 - val_loss: 0.4871 - val_accuracy: 0.7955\n",
      "Epoch 4/100\n",
      "5359/5359 [==============================] - 1s 176us/sample - loss: 0.4733 - accuracy: 0.7962 - val_loss: 0.4732 - val_accuracy: 0.7982\n",
      "Epoch 5/100\n",
      "5359/5359 [==============================] - 1s 182us/sample - loss: 0.4597 - accuracy: 0.8028 - val_loss: 0.4621 - val_accuracy: 0.7997\n",
      "Epoch 6/100\n",
      "5359/5359 [==============================] - 1s 181us/sample - loss: 0.4491 - accuracy: 0.8091 - val_loss: 0.4536 - val_accuracy: 0.8050\n",
      "Epoch 7/100\n",
      "5359/5359 [==============================] - 1s 181us/sample - loss: 0.4412 - accuracy: 0.8127 - val_loss: 0.4470 - val_accuracy: 0.8035\n",
      "Epoch 8/100\n",
      "5359/5359 [==============================] - 1s 182us/sample - loss: 0.4350 - accuracy: 0.8169 - val_loss: 0.4417 - val_accuracy: 0.8058\n",
      "Epoch 9/100\n",
      "5359/5359 [==============================] - 1s 183us/sample - loss: 0.4299 - accuracy: 0.8209 - val_loss: 0.4373 - val_accuracy: 0.8058\n",
      "Epoch 10/100\n",
      "5359/5359 [==============================] - 1s 194us/sample - loss: 0.4254 - accuracy: 0.8233 - val_loss: 0.4336 - val_accuracy: 0.8092\n",
      "Epoch 11/100\n",
      "5359/5359 [==============================] - 1s 190us/sample - loss: 0.4218 - accuracy: 0.8253 - val_loss: 0.4305 - val_accuracy: 0.8088\n",
      "Epoch 12/100\n",
      "5359/5359 [==============================] - 1s 186us/sample - loss: 0.4186 - accuracy: 0.8248 - val_loss: 0.4281 - val_accuracy: 0.8092\n",
      "Epoch 13/100\n",
      "5359/5359 [==============================] - 1s 182us/sample - loss: 0.4160 - accuracy: 0.8252 - val_loss: 0.4257 - val_accuracy: 0.8103\n",
      "Epoch 14/100\n",
      "5359/5359 [==============================] - 1s 180us/sample - loss: 0.4137 - accuracy: 0.8261 - val_loss: 0.4237 - val_accuracy: 0.8111\n",
      "Epoch 15/100\n",
      "5359/5359 [==============================] - 1s 181us/sample - loss: 0.4117 - accuracy: 0.8268 - val_loss: 0.4217 - val_accuracy: 0.8141\n",
      "Epoch 16/100\n",
      "5359/5359 [==============================] - 1s 180us/sample - loss: 0.4098 - accuracy: 0.8289 - val_loss: 0.4200 - val_accuracy: 0.8152\n",
      "Epoch 17/100\n",
      "5359/5359 [==============================] - 1s 181us/sample - loss: 0.4081 - accuracy: 0.8276 - val_loss: 0.4182 - val_accuracy: 0.8175\n",
      "Epoch 18/100\n",
      "5359/5359 [==============================] - 1s 185us/sample - loss: 0.4067 - accuracy: 0.8306 - val_loss: 0.4168 - val_accuracy: 0.8171\n",
      "Epoch 19/100\n",
      "5359/5359 [==============================] - 1s 186us/sample - loss: 0.4053 - accuracy: 0.8304 - val_loss: 0.4153 - val_accuracy: 0.8186\n",
      "Epoch 20/100\n",
      "5359/5359 [==============================] - 1s 210us/sample - loss: 0.4040 - accuracy: 0.8304 - val_loss: 0.4141 - val_accuracy: 0.8209\n",
      "Epoch 21/100\n",
      "5359/5359 [==============================] - 1s 192us/sample - loss: 0.4028 - accuracy: 0.8302 - val_loss: 0.4129 - val_accuracy: 0.8217\n",
      "Epoch 22/100\n",
      "5359/5359 [==============================] - 1s 189us/sample - loss: 0.4015 - accuracy: 0.8309 - val_loss: 0.4120 - val_accuracy: 0.8224\n",
      "Epoch 23/100\n",
      "5359/5359 [==============================] - 1s 192us/sample - loss: 0.4005 - accuracy: 0.8315 - val_loss: 0.4110 - val_accuracy: 0.8236\n",
      "Epoch 24/100\n",
      "5359/5359 [==============================] - 1s 192us/sample - loss: 0.3996 - accuracy: 0.8308 - val_loss: 0.4100 - val_accuracy: 0.8236\n",
      "Epoch 25/100\n",
      "5359/5359 [==============================] - 2s 329us/sample - loss: 0.3985 - accuracy: 0.8313 - val_loss: 0.4091 - val_accuracy: 0.8254\n",
      "Epoch 26/100\n",
      "5359/5359 [==============================] - 1s 185us/sample - loss: 0.3977 - accuracy: 0.8308 - val_loss: 0.4081 - val_accuracy: 0.8262\n",
      "Epoch 27/100\n",
      "5359/5359 [==============================] - 1s 199us/sample - loss: 0.3967 - accuracy: 0.8311 - val_loss: 0.4073 - val_accuracy: 0.8270\n",
      "Epoch 28/100\n",
      "5359/5359 [==============================] - 1s 184us/sample - loss: 0.3959 - accuracy: 0.8317 - val_loss: 0.4063 - val_accuracy: 0.8270\n",
      "Epoch 29/100\n",
      "5359/5359 [==============================] - 1s 193us/sample - loss: 0.3952 - accuracy: 0.8309 - val_loss: 0.4054 - val_accuracy: 0.8277\n",
      "Epoch 30/100\n",
      "5359/5359 [==============================] - 1s 188us/sample - loss: 0.3943 - accuracy: 0.8308 - val_loss: 0.4044 - val_accuracy: 0.8292\n",
      "Epoch 31/100\n",
      "5359/5359 [==============================] - 1s 212us/sample - loss: 0.3934 - accuracy: 0.8313 - val_loss: 0.4034 - val_accuracy: 0.8285\n",
      "Epoch 32/100\n",
      "5359/5359 [==============================] - 1s 183us/sample - loss: 0.3926 - accuracy: 0.8315 - val_loss: 0.4026 - val_accuracy: 0.8285\n",
      "Epoch 33/100\n",
      "5359/5359 [==============================] - 1s 187us/sample - loss: 0.3917 - accuracy: 0.8315 - val_loss: 0.4016 - val_accuracy: 0.8281\n",
      "Epoch 34/100\n",
      "5359/5359 [==============================] - 1s 190us/sample - loss: 0.3907 - accuracy: 0.8332 - val_loss: 0.4007 - val_accuracy: 0.8281\n",
      "Epoch 35/100\n",
      "5359/5359 [==============================] - 1s 186us/sample - loss: 0.3901 - accuracy: 0.8311 - val_loss: 0.3999 - val_accuracy: 0.8289\n",
      "Epoch 36/100\n",
      "5359/5359 [==============================] - 1s 189us/sample - loss: 0.3890 - accuracy: 0.8321 - val_loss: 0.3989 - val_accuracy: 0.8307\n",
      "Epoch 37/100\n",
      "5359/5359 [==============================] - 1s 200us/sample - loss: 0.3881 - accuracy: 0.8321 - val_loss: 0.3980 - val_accuracy: 0.8285\n",
      "Epoch 38/100\n",
      "5359/5359 [==============================] - 1s 182us/sample - loss: 0.3871 - accuracy: 0.8326 - val_loss: 0.3969 - val_accuracy: 0.8307\n",
      "Epoch 39/100\n",
      "5359/5359 [==============================] - 1s 185us/sample - loss: 0.3862 - accuracy: 0.8330 - val_loss: 0.3963 - val_accuracy: 0.8300\n",
      "Epoch 40/100\n",
      "5359/5359 [==============================] - 1s 181us/sample - loss: 0.3854 - accuracy: 0.8326 - val_loss: 0.3954 - val_accuracy: 0.8304\n",
      "Epoch 41/100\n",
      "5359/5359 [==============================] - 1s 181us/sample - loss: 0.3845 - accuracy: 0.8330 - val_loss: 0.3942 - val_accuracy: 0.8307\n",
      "Epoch 42/100\n",
      "5359/5359 [==============================] - 1s 179us/sample - loss: 0.3837 - accuracy: 0.8337 - val_loss: 0.3933 - val_accuracy: 0.8315\n",
      "Epoch 43/100\n",
      "5359/5359 [==============================] - 1s 187us/sample - loss: 0.3829 - accuracy: 0.8330 - val_loss: 0.3925 - val_accuracy: 0.8323\n",
      "Epoch 44/100\n",
      "5359/5359 [==============================] - 1s 187us/sample - loss: 0.3822 - accuracy: 0.8339 - val_loss: 0.3919 - val_accuracy: 0.8330\n",
      "Epoch 45/100\n",
      "5359/5359 [==============================] - 1s 195us/sample - loss: 0.3815 - accuracy: 0.8347 - val_loss: 0.3911 - val_accuracy: 0.8330\n",
      "Epoch 46/100\n",
      "5359/5359 [==============================] - 1s 195us/sample - loss: 0.3808 - accuracy: 0.8350 - val_loss: 0.3904 - val_accuracy: 0.8334\n",
      "Epoch 47/100\n",
      "5359/5359 [==============================] - 1s 194us/sample - loss: 0.3800 - accuracy: 0.8345 - val_loss: 0.3895 - val_accuracy: 0.8334\n",
      "Epoch 48/100\n",
      "5359/5359 [==============================] - 1s 184us/sample - loss: 0.3794 - accuracy: 0.8339 - val_loss: 0.3888 - val_accuracy: 0.8342\n",
      "Epoch 49/100\n",
      "5359/5359 [==============================] - 1s 187us/sample - loss: 0.3787 - accuracy: 0.8349 - val_loss: 0.3884 - val_accuracy: 0.8357\n",
      "Epoch 50/100\n",
      "5359/5359 [==============================] - 1s 190us/sample - loss: 0.3780 - accuracy: 0.8347 - val_loss: 0.3878 - val_accuracy: 0.8349\n",
      "Epoch 51/100\n",
      "5359/5359 [==============================] - 1s 193us/sample - loss: 0.3772 - accuracy: 0.8339 - val_loss: 0.3875 - val_accuracy: 0.8357\n",
      "Epoch 52/100\n",
      "5359/5359 [==============================] - 1s 216us/sample - loss: 0.3767 - accuracy: 0.8349 - val_loss: 0.3865 - val_accuracy: 0.8364\n",
      "Epoch 53/100\n",
      "5359/5359 [==============================] - 1s 235us/sample - loss: 0.3760 - accuracy: 0.8352 - val_loss: 0.3861 - val_accuracy: 0.8360\n",
      "Epoch 54/100\n",
      "5359/5359 [==============================] - 1s 176us/sample - loss: 0.3754 - accuracy: 0.8350 - val_loss: 0.3856 - val_accuracy: 0.8357\n",
      "Epoch 55/100\n"
     ]
    },
    {
     "name": "stdout",
     "output_type": "stream",
     "text": [
      "5359/5359 [==============================] - 1s 180us/sample - loss: 0.3749 - accuracy: 0.8350 - val_loss: 0.3852 - val_accuracy: 0.8364\n",
      "Epoch 56/100\n",
      "5359/5359 [==============================] - 1s 180us/sample - loss: 0.3742 - accuracy: 0.8343 - val_loss: 0.3848 - val_accuracy: 0.8357\n",
      "Epoch 57/100\n",
      "5359/5359 [==============================] - 1s 181us/sample - loss: 0.3736 - accuracy: 0.8347 - val_loss: 0.3843 - val_accuracy: 0.8372\n",
      "Epoch 58/100\n",
      "5359/5359 [==============================] - 1s 180us/sample - loss: 0.3731 - accuracy: 0.8350 - val_loss: 0.3839 - val_accuracy: 0.8357\n",
      "Epoch 59/100\n",
      "5359/5359 [==============================] - 1s 180us/sample - loss: 0.3727 - accuracy: 0.8350 - val_loss: 0.3834 - val_accuracy: 0.8357\n",
      "Epoch 60/100\n",
      "5359/5359 [==============================] - 1s 183us/sample - loss: 0.3720 - accuracy: 0.8350 - val_loss: 0.3830 - val_accuracy: 0.8345\n",
      "Epoch 61/100\n",
      "5359/5359 [==============================] - 1s 187us/sample - loss: 0.3715 - accuracy: 0.8349 - val_loss: 0.3825 - val_accuracy: 0.8357\n",
      "Epoch 62/100\n",
      "5359/5359 [==============================] - 1s 188us/sample - loss: 0.3708 - accuracy: 0.8360 - val_loss: 0.3821 - val_accuracy: 0.8338\n",
      "Epoch 63/100\n",
      "5359/5359 [==============================] - 1s 196us/sample - loss: 0.3704 - accuracy: 0.8350 - val_loss: 0.3815 - val_accuracy: 0.8349\n",
      "Epoch 64/100\n",
      "5359/5359 [==============================] - 1s 169us/sample - loss: 0.3697 - accuracy: 0.8345 - val_loss: 0.3812 - val_accuracy: 0.8345\n",
      "Epoch 65/100\n",
      "5359/5359 [==============================] - 1s 193us/sample - loss: 0.3692 - accuracy: 0.8345 - val_loss: 0.3807 - val_accuracy: 0.8342\n",
      "Epoch 66/100\n",
      "5359/5359 [==============================] - 1s 191us/sample - loss: 0.3685 - accuracy: 0.8347 - val_loss: 0.3802 - val_accuracy: 0.8353\n",
      "Epoch 67/100\n",
      "5359/5359 [==============================] - 1s 196us/sample - loss: 0.3681 - accuracy: 0.8334 - val_loss: 0.3797 - val_accuracy: 0.8349\n",
      "Epoch 68/100\n",
      "5359/5359 [==============================] - 1s 197us/sample - loss: 0.3674 - accuracy: 0.8345 - val_loss: 0.3793 - val_accuracy: 0.8345\n",
      "Epoch 69/100\n",
      "5359/5359 [==============================] - 1s 190us/sample - loss: 0.3668 - accuracy: 0.8326 - val_loss: 0.3790 - val_accuracy: 0.8345\n",
      "Epoch 70/100\n",
      "5359/5359 [==============================] - 1s 211us/sample - loss: 0.3663 - accuracy: 0.8330 - val_loss: 0.3786 - val_accuracy: 0.8342\n",
      "Epoch 71/100\n",
      "5359/5359 [==============================] - 1s 189us/sample - loss: 0.3658 - accuracy: 0.8347 - val_loss: 0.3784 - val_accuracy: 0.8338\n",
      "Epoch 72/100\n",
      "5359/5359 [==============================] - 1s 193us/sample - loss: 0.3652 - accuracy: 0.8334 - val_loss: 0.3779 - val_accuracy: 0.8345\n",
      "Epoch 73/100\n",
      "5359/5359 [==============================] - 1s 200us/sample - loss: 0.3646 - accuracy: 0.8334 - val_loss: 0.3774 - val_accuracy: 0.8345\n",
      "Epoch 74/100\n",
      "5359/5359 [==============================] - 1s 202us/sample - loss: 0.3639 - accuracy: 0.8343 - val_loss: 0.3769 - val_accuracy: 0.8338\n",
      "Epoch 75/100\n",
      "5359/5359 [==============================] - 1s 191us/sample - loss: 0.3633 - accuracy: 0.8343 - val_loss: 0.3765 - val_accuracy: 0.8338\n",
      "Epoch 76/100\n",
      "5359/5359 [==============================] - 1s 188us/sample - loss: 0.3627 - accuracy: 0.8328 - val_loss: 0.3761 - val_accuracy: 0.8338\n",
      "Epoch 77/100\n",
      "5359/5359 [==============================] - 1s 187us/sample - loss: 0.3620 - accuracy: 0.8328 - val_loss: 0.3758 - val_accuracy: 0.8334\n",
      "Epoch 78/100\n",
      "5359/5359 [==============================] - 1s 199us/sample - loss: 0.3614 - accuracy: 0.8334 - val_loss: 0.3757 - val_accuracy: 0.8338\n",
      "Epoch 79/100\n",
      "5359/5359 [==============================] - 1s 182us/sample - loss: 0.3608 - accuracy: 0.8341 - val_loss: 0.3751 - val_accuracy: 0.8342\n",
      "Epoch 80/100\n",
      "5359/5359 [==============================] - 1s 181us/sample - loss: 0.3605 - accuracy: 0.8332 - val_loss: 0.3749 - val_accuracy: 0.8338\n",
      "Epoch 81/100\n",
      "5359/5359 [==============================] - 1s 205us/sample - loss: 0.3599 - accuracy: 0.8330 - val_loss: 0.3748 - val_accuracy: 0.8349\n",
      "Epoch 82/100\n",
      "5359/5359 [==============================] - 1s 199us/sample - loss: 0.3595 - accuracy: 0.8341 - val_loss: 0.3743 - val_accuracy: 0.8330\n",
      "Epoch 83/100\n",
      "5359/5359 [==============================] - 1s 191us/sample - loss: 0.3588 - accuracy: 0.8334 - val_loss: 0.3741 - val_accuracy: 0.8349\n",
      "Epoch 84/100\n",
      "5359/5359 [==============================] - 1s 194us/sample - loss: 0.3584 - accuracy: 0.8322 - val_loss: 0.3738 - val_accuracy: 0.8334\n",
      "Epoch 85/100\n",
      "5359/5359 [==============================] - 1s 199us/sample - loss: 0.3579 - accuracy: 0.8337 - val_loss: 0.3737 - val_accuracy: 0.8326\n",
      "Epoch 86/100\n",
      "5359/5359 [==============================] - 1s 200us/sample - loss: 0.3573 - accuracy: 0.8322 - val_loss: 0.3739 - val_accuracy: 0.8338\n",
      "Epoch 87/100\n",
      "5359/5359 [==============================] - 1s 197us/sample - loss: 0.3571 - accuracy: 0.8343 - val_loss: 0.3734 - val_accuracy: 0.8315\n",
      "Epoch 88/100\n",
      "5359/5359 [==============================] - 1s 197us/sample - loss: 0.3566 - accuracy: 0.8427 - val_loss: 0.3732 - val_accuracy: 0.8451\n",
      "Epoch 89/100\n",
      "5359/5359 [==============================] - 1s 190us/sample - loss: 0.3562 - accuracy: 0.8483 - val_loss: 0.3730 - val_accuracy: 0.8451\n",
      "Epoch 90/100\n",
      "5359/5359 [==============================] - 1s 193us/sample - loss: 0.3558 - accuracy: 0.8487 - val_loss: 0.3728 - val_accuracy: 0.8451\n",
      "Epoch 91/100\n",
      "5359/5359 [==============================] - 1s 197us/sample - loss: 0.3555 - accuracy: 0.8487 - val_loss: 0.3727 - val_accuracy: 0.8455\n",
      "Epoch 92/100\n",
      "5359/5359 [==============================] - 1s 195us/sample - loss: 0.3552 - accuracy: 0.8485 - val_loss: 0.3726 - val_accuracy: 0.8459\n",
      "Epoch 93/100\n",
      "5359/5359 [==============================] - 1s 201us/sample - loss: 0.3548 - accuracy: 0.8492 - val_loss: 0.3723 - val_accuracy: 0.8440\n",
      "Epoch 94/100\n",
      "5359/5359 [==============================] - 1s 197us/sample - loss: 0.3546 - accuracy: 0.8498 - val_loss: 0.3721 - val_accuracy: 0.8440\n",
      "Epoch 95/100\n",
      "5359/5359 [==============================] - 1s 189us/sample - loss: 0.3542 - accuracy: 0.8509 - val_loss: 0.3719 - val_accuracy: 0.8455\n",
      "Epoch 96/100\n",
      "5359/5359 [==============================] - 1s 188us/sample - loss: 0.3539 - accuracy: 0.8509 - val_loss: 0.3716 - val_accuracy: 0.8440\n",
      "Epoch 97/100\n",
      "5359/5359 [==============================] - 1s 186us/sample - loss: 0.3536 - accuracy: 0.8507 - val_loss: 0.3714 - val_accuracy: 0.8451\n",
      "Epoch 98/100\n",
      "5359/5359 [==============================] - 1s 189us/sample - loss: 0.3533 - accuracy: 0.8507 - val_loss: 0.3714 - val_accuracy: 0.8455\n",
      "Epoch 99/100\n",
      "5359/5359 [==============================] - 1s 194us/sample - loss: 0.3532 - accuracy: 0.8507 - val_loss: 0.3709 - val_accuracy: 0.8455\n",
      "Epoch 100/100\n",
      "5359/5359 [==============================] - 1s 191us/sample - loss: 0.3528 - accuracy: 0.8522 - val_loss: 0.3707 - val_accuracy: 0.8466\n"
     ]
    }
   ],
   "source": [
    "# Fitting the ANN to the Training set\n",
    "model_history=classifier.fit(X_train, y_train,validation_split=0.33, batch_size = 10, epochs = 100)"
   ]
  },
  {
   "cell_type": "code",
   "execution_count": 111,
   "id": "5f494977",
   "metadata": {},
   "outputs": [
    {
     "name": "stdout",
     "output_type": "stream",
     "text": [
      "dict_keys(['loss', 'accuracy', 'val_loss', 'val_accuracy'])\n"
     ]
    },
    {
     "data": {
      "image/png": "[encoded data removed]",
      "text/plain": [
       "<Figure size 432x288 with 1 Axes>"
      ]
     },
     "metadata": {
      "needs_background": "light"
     },
     "output_type": "display_data"
    }
   ],
   "source": [
    "# list all data in history\n",
    "\n",
    "print(model_history.history.keys())\n",
    "# summarize history for accuracy\n",
    "plt.plot(model_history.history['accuracy'])\n",
    "plt.plot(model_history.history['val_accuracy'])\n",
    "plt.title('model accuracy')\n",
    "plt.ylabel('accuracy')\n",
    "plt.xlabel('epoch')\n",
    "plt.legend(['train', 'test'], loc='upper left')\n",
    "plt.show()"
   ]
  },
  {
   "cell_type": "code",
   "execution_count": 112,
   "id": "a0174aa2",
   "metadata": {},
   "outputs": [
    {
     "data": {
      "image/png": "[encoded data removed]",
      "text/plain": [
       "<Figure size 432x288 with 1 Axes>"
      ]
     },
     "metadata": {
      "needs_background": "light"
     },
     "output_type": "display_data"
    }
   ],
   "source": [
    "# summarize history for loss\n",
    "plt.plot(model_history.history['loss'])\n",
    "plt.plot(model_history.history['val_loss'])\n",
    "plt.title('model loss')\n",
    "plt.ylabel('loss')\n",
    "plt.xlabel('epoch')\n",
    "plt.legend(['train', 'test'], loc='upper left')\n",
    "plt.show()"
   ]
  },
  {
   "cell_type": "code",
   "execution_count": 113,
   "id": "f640cc53",
   "metadata": {},
   "outputs": [],
   "source": [
    "# Part 3 - Making the predictions and evaluating the model\n",
    "\n",
    "# Predicting the Test set results\n",
    "y_pred = classifier.predict(X_test)\n",
    "y_pred = (y_pred > 0.5)\n"
   ]
  },
  {
   "cell_type": "code",
   "execution_count": 114,
   "id": "7f90c0e4",
   "metadata": {},
   "outputs": [
    {
     "name": "stdout",
     "output_type": "stream",
     "text": [
      "[[1519   76]\n",
      " [ 211  194]]\n"
     ]
    }
   ],
   "source": [
    "# Making the Confusion Matrix\n",
    "from sklearn.metrics import confusion_matrix\n",
    "cm = confusion_matrix(y_test, y_pred)\n",
    "print(cm)"
   ]
  },
  {
   "cell_type": "code",
   "execution_count": 115,
   "id": "86d3c221",
   "metadata": {},
   "outputs": [
    {
     "name": "stdout",
     "output_type": "stream",
     "text": [
      "0.8565\n"
     ]
    }
   ],
   "source": [
    "# Calculate the Accuracy\n",
    "from sklearn.metrics import accuracy_score\n",
    "score=accuracy_score(y_pred,y_test)\n",
    "print(score)"
   ]
  }
 ],
 "metadata": {
  "kernelspec": {
   "display_name": "Python 3",
   "language": "python",
   "name": "python3"
  },
  "language_info": {
   "codemirror_mode": {
    "name": "ipython",
    "version": 3
   },
   "file_extension": ".py",
   "mimetype": "text/x-python",
   "name": "python",
   "nbconvert_exporter": "python",
   "pygments_lexer": "ipython3",
   "version": "3.6.8"
  }
 },
 "nbformat": 4,
 "nbformat_minor": 5
}
